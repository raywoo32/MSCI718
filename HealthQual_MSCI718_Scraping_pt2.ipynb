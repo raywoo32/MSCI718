{
  "nbformat": 4,
  "nbformat_minor": 0,
  "metadata": {
    "colab": {
      "name": "MSCI718_Scraping_pt2.ipynb",
      "provenance": [],
      "collapsed_sections": [],
      "toc_visible": true
    },
    "kernelspec": {
      "name": "python3",
      "display_name": "Python 3"
    },
    "language_info": {
      "name": "python"
    }
  },
  "cells": [
    {
      "cell_type": "markdown",
      "metadata": {
        "id": "baCNUzQm1vee"
      },
      "source": [
        "This notebook is part of Rachel Woo's analysis of LTC data. This notebook pulls data as a web-browser does from (Health Quality Ontario)[https://www.hqontario.ca/System-Performance/Long-Term-Care-Home-Performance]. \n",
        "\n",
        "Please check out my GitHub for more details. "
      ]
    },
    {
      "cell_type": "code",
      "metadata": {
        "id": "Fc3YLu2GP0A2"
      },
      "source": [
        "#Read in XML \n",
        "import xml.etree.ElementTree as ET\n",
        "tree = ET.parse('GetHospitalNames.fb2.xml')\n",
        "root = tree.getroot()\n",
        "\n",
        "idList=[]\n",
        "nameList=[]\n",
        "for i in range(len(root)):\n",
        "  id = root[i][0].text\n",
        "  name = root[i][1].text\n",
        "  idList.append(id)\n",
        "  nameList.append(name)\n",
        "\n"
      ],
      "execution_count": null,
      "outputs": []
    },
    {
      "cell_type": "code",
      "metadata": {
        "id": "GpFiIt789FqI"
      },
      "source": [
        "#Depression\n",
        "\n",
        "dep_url = 'https://drivepublic.hqontario.ca/Report/GetLongTermCareData?indicator=Depression&'\n",
        "urlsToQuery = []\n",
        "for id in idList:\n",
        "  toQuery = dep_url + \"orgIDs=\" + id.strip() + \"&periodType=MostRecentYear&placementSources=All&language=EN&_=1618936743189\"\n",
        "  urlsToQuery.append(toQuery)\n",
        "\n",
        "print(urlsToQuery[0])\n",
        "print(\"https://drivepublic.hqontario.ca/Report/GetLongTermCareData?indicator=Depression&orgIDs=220&periodType=MostRecentYear&placementSources=All&language=EN&_=1618950938004\")\n",
        "\n"
      ],
      "execution_count": null,
      "outputs": []
    },
    {
      "cell_type": "code",
      "metadata": {
        "id": "LdTeBjBS-ulh"
      },
      "source": [
        "#Do Depression Queries \n",
        "\n",
        "depressionResults = []\n",
        "for url in urlsToQuery:\n",
        "  depressionResults.append(requests.get(url).json())"
      ],
      "execution_count": 102,
      "outputs": []
    },
    {
      "cell_type": "code",
      "metadata": {
        "id": "BZh-UtN7C305"
      },
      "source": [
        "# Pain\n",
        "\n",
        "dep_url = 'https://drivepublic.hqontario.ca/Report/GetLongTermCareData?indicator=Pain&'\n",
        "urlsToQuery = []\n",
        "for id in idList:\n",
        "  toQuery = dep_url + \"orgIDs=\" + id.strip() + \"&periodType=MostRecentYear&placementSources=All&language=EN&_=1618936743188\"\n",
        "  urlsToQuery.append(toQuery)\n",
        "\n",
        "print(urlsToQuery[0])\n",
        "print(\"https://drivepublic.hqontario.ca/Report/GetLongTermCareData?indicator=Pain&orgIDs=255&periodType=MostRecentYear&placementSources=All&language=EN&_=1618936743188\")"
      ],
      "execution_count": null,
      "outputs": []
    },
    {
      "cell_type": "code",
      "metadata": {
        "id": "svhTekcsDIIv"
      },
      "source": [
        "#Do Pain Queries \n",
        "\n",
        "painResults = []\n",
        "for url in urlsToQuery:\n",
        "  painResults.append(requests.get(url).json())"
      ],
      "execution_count": 106,
      "outputs": []
    },
    {
      "cell_type": "code",
      "metadata": {
        "colab": {
          "base_uri": "https://localhost:8080/"
        },
        "id": "8tmlCBxTGYBK",
        "outputId": "767c69a9-976c-49ec-9334-54101019754e"
      },
      "source": [
        "# PressureUlcers\n",
        "\n",
        "dep_url = 'https://drivepublic.hqontario.ca/Report/GetLongTermCareData?indicator=PressureUlcers&'\n",
        "urlsToQuery = []\n",
        "for id in idList:\n",
        "  toQuery = dep_url + \"orgIDs=\" + id.strip() + \"&periodType=MostRecentYear&placementSources=All&language=EN&_=1618936743187\"\n",
        "  urlsToQuery.append(toQuery)\n",
        "\n",
        "\n",
        "\n",
        "print(urlsToQuery[0])\n",
        "print(\"https://drivepublic.hqontario.ca/Report/GetLongTermCareData?indicator=PressureUlcers&orgIDs=255&periodType=MostRecentYear&placementSources=All&language=EN&_=1618936743187\")"
      ],
      "execution_count": 109,
      "outputs": [
        {
          "output_type": "stream",
          "text": [
            "https://drivepublic.hqontario.ca/Report/GetLongTermCareData?indicator=PressureUlcers&orgIDs=220&periodType=MostRecentYear&placementSources=All&language=EN&_=1618936743187\n",
            "https://drivepublic.hqontario.ca/Report/GetLongTermCareData?indicator=PressureUlcers&orgIDs=255&periodType=MostRecentYear&placementSources=All&language=EN&_=1618936743187\n"
          ],
          "name": "stdout"
        }
      ]
    },
    {
      "cell_type": "code",
      "metadata": {
        "id": "uMUinWB-GaNm"
      },
      "source": [
        "#Do PressureUlcers Queries\n",
        "\n",
        "PressureUlcersResults = []\n",
        "for url in urlsToQuery:\n",
        "  PressureUlcersResults.append(requests.get(url).json())"
      ],
      "execution_count": 110,
      "outputs": []
    },
    {
      "cell_type": "code",
      "metadata": {
        "colab": {
          "base_uri": "https://localhost:8080/"
        },
        "id": "nibKkjQVIamQ",
        "outputId": "2f375d5f-bbf2-4eba-b92d-3882e6a9d8b0"
      },
      "source": [
        "# PhysicalRestraintsUse\n",
        "\n",
        "dep_url = 'https://drivepublic.hqontario.ca/Report/GetLongTermCareData?indicator=PhysicalRestraintsUse&'\n",
        "urlsToQuery = []\n",
        "for id in idList:\n",
        "  toQuery = dep_url + \"orgIDs=\" + id.strip() + \"&periodType=MostRecentYear&placementSources=All&language=EN&_=1618936743186\"\n",
        "  urlsToQuery.append(toQuery)\n",
        "\n",
        "\n",
        "\n",
        "print(urlsToQuery[0])\n",
        "print(\"https://drivepublic.hqontario.ca/Report/GetLongTermCareData?indicator=PhysicalRestraintsUse&orgIDs=255&periodType=MostRecentYear&placementSources=All&language=EN&_=1618936743186\")"
      ],
      "execution_count": 115,
      "outputs": [
        {
          "output_type": "stream",
          "text": [
            "https://drivepublic.hqontario.ca/Report/GetLongTermCareData?indicator=PhysicalRestraintsUse&orgIDs=220&periodType=MostRecentYear&placementSources=All&language=EN&_=1618936743186\n",
            "https://drivepublic.hqontario.ca/Report/GetLongTermCareData?indicator=PhysicalRestraintsUse&orgIDs=255&periodType=MostRecentYear&placementSources=All&language=EN&_=1618936743186\n"
          ],
          "name": "stdout"
        }
      ]
    },
    {
      "cell_type": "code",
      "metadata": {
        "id": "tnueiyyJIbvo"
      },
      "source": [
        "#Do PhysicalRestraintsUse Queries\n",
        "\n",
        "PhysicalRestraintsUseResults = []\n",
        "for url in urlsToQuery:\n",
        "  PhysicalRestraintsUseResults.append(requests.get(url).json())\n",
        "\n"
      ],
      "execution_count": 116,
      "outputs": []
    },
    {
      "cell_type": "code",
      "metadata": {
        "colab": {
          "base_uri": "https://localhost:8080/"
        },
        "id": "Q10WDi7-K4K-",
        "outputId": "6a83abf6-fc17-433b-b45e-554088b375d5"
      },
      "source": [
        "# Falls\n",
        "\n",
        "dep_url = 'https://drivepublic.hqontario.ca/Report/GetLongTermCareData?indicator=Falls&'\n",
        "urlsToQuery = []\n",
        "for id in idList:\n",
        "  toQuery = dep_url + \"orgIDs=\" + id.strip() + \"&periodType=MostRecentYear&placementSources=All&language=EN&_=1618936743185\"\n",
        "  urlsToQuery.append(toQuery)\n",
        "\n",
        "print(urlsToQuery[0])\n",
        "print(\"https://drivepublic.hqontario.ca/Report/GetLongTermCareData?indicator=Falls&orgIDs=255&periodType=MostRecentYear&placementSources=All&language=EN&_=1618936743185\")"
      ],
      "execution_count": 118,
      "outputs": [
        {
          "output_type": "stream",
          "text": [
            "https://drivepublic.hqontario.ca/Report/GetLongTermCareData?indicator=Falls&orgIDs=220&periodType=MostRecentYear&placementSources=All&language=EN&_=1618936743185\n",
            "https://drivepublic.hqontario.ca/Report/GetLongTermCareData?indicator=Falls&orgIDs=255&periodType=MostRecentYear&placementSources=All&language=EN&_=1618936743185\n"
          ],
          "name": "stdout"
        }
      ]
    },
    {
      "cell_type": "code",
      "metadata": {
        "id": "P70ai0K4K4pm"
      },
      "source": [
        "#Do Falls Queries\n",
        "\n",
        "FallsResults = []\n",
        "for url in urlsToQuery:\n",
        "  FallsResults.append(requests.get(url).json())\n",
        "\n"
      ],
      "execution_count": 119,
      "outputs": []
    },
    {
      "cell_type": "code",
      "metadata": {
        "colab": {
          "base_uri": "https://localhost:8080/"
        },
        "id": "1VI_ty1gLVMm",
        "outputId": "9971a7d1-0f46-4e3f-ae55-444007cb2f7a"
      },
      "source": [
        "# AntipsychoticMedicationUse\n",
        "\n",
        "dep_url = 'https://drivepublic.hqontario.ca/Report/GetLongTermCareData?indicator=AntipsychoticMedicationUse&'\n",
        "urlsToQuery = []\n",
        "for id in idList:\n",
        "  toQuery = dep_url + \"orgIDs=\" + id.strip() + \"&periodType=MostRecentYear&placementSources=All&language=EN&_=1618936743184\"\n",
        "  urlsToQuery.append(toQuery)\n",
        "\n",
        "print(urlsToQuery[0])\n",
        "print(\"https://drivepublic.hqontario.ca/Report/GetLongTermCareData?indicator=AntipsychoticMedicationUse&orgIDs=255&periodType=MostRecentYear&placementSources=All&language=EN&_=1618936743184\")\n",
        "\n",
        "\n"
      ],
      "execution_count": 120,
      "outputs": [
        {
          "output_type": "stream",
          "text": [
            "https://drivepublic.hqontario.ca/Report/GetLongTermCareData?indicator=AntipsychoticMedicationUse&orgIDs=220&periodType=MostRecentYear&placementSources=All&language=EN&_=1618936743184\n",
            "https://drivepublic.hqontario.ca/Report/GetLongTermCareData?indicator=AntipsychoticMedicationUse&orgIDs=255&periodType=MostRecentYear&placementSources=All&language=EN&_=1618936743184\n"
          ],
          "name": "stdout"
        }
      ]
    },
    {
      "cell_type": "code",
      "metadata": {
        "id": "8blxYzHqLVpM"
      },
      "source": [
        "#Do AntipsychoticMedicationUse Queries\n",
        "\n",
        "AntipsychoticMedicationUseResults = []\n",
        "for url in urlsToQuery:\n",
        "  AntipsychoticMedicationUseResults.append(requests.get(url).json())\n"
      ],
      "execution_count": 122,
      "outputs": []
    },
    {
      "cell_type": "code",
      "metadata": {
        "id": "oOwQ7OAbCjRM"
      },
      "source": [
        "#Test and Save results \n",
        "import pickle \n",
        "\n",
        "with open('AntipsychoticMedicationUseResults.pkl', 'wb') as f:\n",
        "  pickle.dump(AntipsychoticMedicationUseResults, f)\n",
        "\n",
        "for item in AntipsychoticMedicationUseResults:\n",
        "  print(item)"
      ],
      "execution_count": null,
      "outputs": []
    },
    {
      "cell_type": "markdown",
      "metadata": {
        "id": "4SFAMHjN3TTZ"
      },
      "source": [
        "### References: \n",
        "1. (Data Source)[https://www.hqontario.ca/System-Performance/Long-Term-Care-Home-Performance]\n",
        "2. (API tutorial)[https://www.dataquest.io/blog/python-api-tutorial/]\n",
        "3. (Web scraping)[https://www.codementor.io/blog/python-web-scraping-63l2v9sf2q]\n",
        "4. (Finding API)[http://www.gregreda.com/2015/02/15/web-scraping-finding-the-api/]"
      ]
    }
  ]
}