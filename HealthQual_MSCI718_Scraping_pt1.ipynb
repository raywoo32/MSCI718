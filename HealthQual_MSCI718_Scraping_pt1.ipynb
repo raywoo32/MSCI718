{
  "nbformat": 4,
  "nbformat_minor": 0,
  "metadata": {
    "colab": {
      "name": "MSCI718_Scraping2_parseToCsv",
      "provenance": [],
      "collapsed_sections": []
    },
    "kernelspec": {
      "name": "python3",
      "display_name": "Python 3"
    },
    "language_info": {
      "name": "python"
    }
  },
  "cells": [
    {
      "cell_type": "markdown",
      "metadata": {
        "id": "2qZisZUaNWvm"
      },
      "source": [
        "This is the second part of the scraping workflow. Here, I take the results of the scraping and parse them to a dataframe and csv to export. "
      ]
    },
    {
      "cell_type": "code",
      "metadata": {
        "id": "OYdFSA0pNh0Q"
      },
      "source": [
        "#Read in files \n",
        "import pickle \n",
        "\n",
        "with open('AntipsychoticMedicationUseResults.pkl', 'rb') as f:\n",
        "  antiPsy = pickle.load(f)\n",
        "with open('FallsResults.pkl', 'rb') as f:\n",
        "  falls = pickle.load(f)\n",
        "with open('PhysicalRestraintsUseResults.pkl', 'rb') as f:\n",
        "  physRes = pickle.load(f)\n",
        "with open('PressureUlcersResults.pkl', 'rb') as f:\n",
        "  pressureUl = pickle.load(f)\n",
        "with open('depressionResults.pkl', 'rb') as f:\n",
        "  depression = pickle.load(f)\n",
        "with open('painResults.pkl', 'rb') as f:\n",
        "  pain = pickle.load(f)\n"
      ],
      "execution_count": 1,
      "outputs": []
    },
    {
      "cell_type": "code",
      "metadata": {
        "id": "lijgT10xOfc6"
      },
      "source": [
        "#Make into induvidual dfs \n",
        "\n",
        "import pandas as pd \n",
        "\n",
        "homesList = []\n",
        "for ltc in pain: \n",
        "    name = ltc[\"DataTableCollection\"][0][\"OrgName\"]\n",
        "    homesList.append(name.lower())\n",
        "\n",
        "def getParsed(indlcator):\n",
        "  toReturn = []\n",
        "  for ltc in indlcator: \n",
        "    measure = ltc[\"DataTableCollection\"][0][\"MeasureColumn\"]\n",
        "    toReturn.append(measure)\n",
        "  return toReturn\n",
        "\n",
        "#Parse\n",
        "painList = getParsed(pain)\n",
        "depressionList = getParsed(depression)\n",
        "pressureUlList = getParsed(pressureUl)\n",
        "physResList = getParsed(physRes)\n",
        "fallsList = getParsed(falls)\n",
        "antiPsyList = getParsed(antiPsy)\n",
        "\n",
        "\n",
        "\n",
        "#Make into df \n",
        "toDict = {'Home': homesList, 'Pain': painList, 'Depression': depressionList, 'PressureUlcers': pressureUlList, 'PhysicalRestraintUse': physResList, 'Falls': fallsList, 'AntiPhsychoticMedUse': antiPsyList} \n",
        "df = pd.DataFrame(toDict)\n"
      ],
      "execution_count": 2,
      "outputs": []
    },
    {
      "cell_type": "code",
      "metadata": {
        "id": "ph8h06uvUiu2"
      },
      "source": [
        "df.to_csv('HomePerformanceMetrics.csv', index = False)"
      ],
      "execution_count": 25,
      "outputs": []
    },
    {
      "cell_type": "code",
      "metadata": {
        "id": "uiNPh2I1VJAV"
      },
      "source": [
        "df2 = pd.read_csv(\"CombinedLTCFixed.csv\")\n",
        "#attempt = pd.merge(df2, df,  how='left', left_on=\"LTC_Home\", right_on=\"Home\")\n",
        "original = list(df2[\"LTC_Home\"])\n",
        "for i in range(len(original)):\n",
        "  original[i] = original[i].lower()\n",
        "\n",
        "sameList = []\n",
        "for home1 in original:\n",
        "  for home2 in homesList:\n",
        "    if (home1.lower().strip()==home2.lower().strip()):\n",
        "      sameList.append(home2)\n",
        "\n",
        "lookList = []\n",
        "for item in original:\n",
        "  if (item not in sameList):\n",
        "    lookList.append(item)\n",
        "\n",
        "print(\"We have\", len(sameList), \"We still need\", len(lookList))\n",
        "\n",
        "#Try matching first word       \n",
        "testDict = {}\n",
        "for item in lookList:\n",
        "  itemCheck  = item.split(\" \")[0]\n",
        "  for item2 in homesList:\n",
        "    item2Check = item2.split(\" \")[0]\n",
        "    if(itemCheck ==item2Check):\n",
        "      testDict[item] = item2\n",
        "\n",
        "#Get chartwells\n",
        "chartwellsOriginal = []\n",
        "chartwellsScraped = []\n",
        "for item in lookList: \n",
        "  if (item.split(\" \")[0] == \"chartwell\"):\n",
        "    chartwellsOriginal.append(item)\n",
        "for item in homesList:\n",
        "  if (item.split(\" \")[0] == \"chartwell\"):\n",
        "    chartwellsScraped.append(item)\n",
        "chartwellsOriginal.sort()\n",
        "chartwellsScraped.sort()\n",
        "\n",
        "fixedChartwell = []\n",
        "finalDict = {}\n",
        "for item in chartwellsOriginal:\n",
        "  originalC = item.split(\" \")[1]\n",
        "  for item2 in chartwellsScraped:\n",
        "    scraped = item2.split(\" \")[1]\n",
        "    if (originalC == scraped):\n",
        "      finalDict[item] = item2\n",
        "      fixedChartwell.append(item)\n",
        "\n",
        "sameList = sameList + fixedChartwell \n",
        "lookList = []\n",
        "for item in original:\n",
        "  if (item not in sameList):\n",
        "    lookList.append(item)\n",
        "\n",
        "print(\"We have\", len(sameList), \"We still need\", len(lookList), \"original was\", len(original))\n",
        "\n",
        "#Try again for test dict\n",
        "# for item in lookList:\n",
        "#   if (item in testDict):\n",
        "#     print(item)\n",
        "#     print(testDict[item])\n",
        "#     manualCheck = input(\"    \")\n",
        "#     if(manualCheck == \"l\"):\n",
        "#       finalDict[item] = testDict[item]\n",
        "#     print(\" \")\n",
        "\n",
        "print(testDict)\n",
        "#badKeys = ['maple villa long term care centre', \"country village homes - woodslee\", \"peoplecare hilltop manor cambridge\", \"niagara health system, welland hospital site\", \"niagara long term care residence\", 'the palace', 'meadow park (london)', \"chartwell ballycliffe long term care residence\", \"vision nursing home\", \"orchard villa\", \"the grove, arnprior and district nursing home\", \"extendicare west end villa\", 'pinecrest nursing home (bobcaygeon)', 'pinecrest (plantagenet', 'hellenic care for seniors (toronto)', 'west park long term care centre', 'twin lakes terrace long term care community', 'sherwood court long term care centre', 'the henley house', 'st. andrew\\'s terrace long term care community', 'valleyview residence', 'southbridge pinewood', 'peoplecare oakcrossing london', 'peoplecare a.r. goudie kitchener', 'providence healthcare', 'shalom manor long term care home', 'st. joseph\\'s health centre, guelph', 'villa colombo homes for the aged', 'the perley and rideau veterans\\' health centre', 'mount hope centre for long term care', 'extendicare maple view of sault ste. marie', 'the pines', 'wellington terrace long-term care home', 'the elliott long term care residence']\n",
        "      "
      ],
      "execution_count": null,
      "outputs": []
    },
    {
      "cell_type": "code",
      "metadata": {
        "id": "tpgtUZZb-WWN"
      },
      "source": [
        "with open('finalDict.pkl', 'wb') as f:\n",
        "  pickle.dump(finalDict, f)\n",
        "\n",
        "sameList = sameList + list(finalDict.keys())\n",
        "lookList = []\n",
        "for item in original:\n",
        "  if (item not in sameList):\n",
        "    lookList.append(item)\n",
        "\n",
        "with open('sameList.pkl', 'wb') as f:\n",
        "  pickle.dump(sameList, f)\n"
      ],
      "execution_count": 95,
      "outputs": []
    },
    {
      "cell_type": "code",
      "metadata": {
        "id": "RcIElkQw_AVF"
      },
      "source": [
        "import difflib\n",
        "\n",
        "print(\"We have\", len(sameList), \"We still need\", len(lookList), \"original was\", len(original))\n",
        "\n",
        "#Try cloest match\n",
        "lookList.sort()\n",
        "for item in lookList:\n",
        "  possibilities = difflib.get_close_matches(item, homesList)\n",
        "  print(item)\n",
        "  print(possibilities)\n",
        "  manualCheck = input(\"    \")\n",
        "  if (len(manualCheck) == 1 and int(manualCheck) <= 2):\n",
        "    finalDict[item] = possibilities[int(manualCheck)]\n",
        "\n"
      ],
      "execution_count": null,
      "outputs": []
    },
    {
      "cell_type": "code",
      "metadata": {
        "colab": {
          "base_uri": "https://localhost:8080/"
        },
        "id": "mxWNZRJGDFGF",
        "outputId": "18f823a8-6063-4c32-cab4-af0f5108b6b8"
      },
      "source": [
        "\n",
        "finalDict[\"parisien manor\"] = 'parisien manor nursing home cornwall'\n",
        "finalDict[\"sherbourne place\"] = \"drs. paul and john rekai centre\"\n",
        "finalDict[\"shelburne long term care home\"] = \"division of provincial nursing home limited partnership - shelburne nursing home\"\n",
        "finalDict[\"pinecrest (plantagenet)\"] = 'pinecrest'\n",
        "finalDict['belmont long term care facility'] = 'belcrest nursing homes ltd.'\n",
        "finalDict['southbridge pinewood'] = 'pinewood court'\n",
        "finalDict['ioof seniors home'] = \"odd fellow and rebekah home\"\n",
        "finalDict['mount hope centre for long term care'] = \"st. joseph's health care, london - mount hope centre for ltc - st. mary's\"\n",
        "finalDict['brucelea haven long term care home - corporation of the county of bruce'] = \"corporation of the county of bruce - brucelea haven ltc home\"\n",
        "finalDict['the pines'] = \"the district municipality of muskoka – the pines long term care home\"\n",
        "finalDict['the elliott long term care residence'] = \"the elliott community\"\n",
        "\n",
        "# finalDict[\"seaforth long term care home\"] = \n",
        "# finalDict['providence healthcare'] = \"providence manor\"\n",
        "\n",
        "\n",
        "with open('finalDict.pkl', 'wb') as f:\n",
        "  pickle.dump(finalDict, f)\n",
        "\n",
        "sameList = sameList + list(finalDict.keys())\n",
        "sameList =  list(set(sameList))\n",
        "lookList = []\n",
        "for item in original:\n",
        "  if (item not in sameList):\n",
        "    lookList.append(item)\n",
        "\n",
        "with open('sameList.pkl', 'wb') as f:\n",
        "  pickle.dump(sameList, f)\n",
        "\n",
        "print(\"We have\", len(sameList), \"We still need\", len(lookList), \"original was\", len(original))\n",
        "\n"
      ],
      "execution_count": 101,
      "outputs": [
        {
          "output_type": "stream",
          "text": [
            "We have 511 We still need 2 original was 513\n"
          ],
          "name": "stdout"
        }
      ]
    },
    {
      "cell_type": "markdown",
      "metadata": {
        "id": "yUsoV3TfanXs"
      },
      "source": [
        ""
      ]
    }
  ]
}